{
 "cells": [
  {
   "cell_type": "code",
   "execution_count": 3,
   "id": "ac7840ef-ba5e-4cd8-a697-fa9323e8381b",
   "metadata": {},
   "outputs": [
    {
     "name": "stdout",
     "output_type": "stream",
     "text": [
      "\n",
      "Todo List Application\n",
      "1. View Tasks\n",
      "2. Add Task\n",
      "3. Complete Task\n",
      "4. Remove Task\n",
      "5. Sort Tasks by Priority\n",
      "6. Sort Tasks by Completion\n",
      "7. Sort Tasks by Description\n",
      "8. Exit\n"
     ]
    },
    {
     "name": "stdin",
     "output_type": "stream",
     "text": [
      "Choose an option:  8\n"
     ]
    },
    {
     "name": "stdout",
     "output_type": "stream",
     "text": [
      "Exiting...\n"
     ]
    }
   ],
   "source": [
    "import json\n",
    "\n",
    "class Todo:\n",
    "    def __init__(self, description, priority):\n",
    "        self.description = description\n",
    "        self.priority = priority\n",
    "        self.completed = False\n",
    "\n",
    "    def __repr__(self):\n",
    "        status = \"✓\" if self.completed else \"✗\"\n",
    "        return f\"[{status}] {self.description} (Priority: {self.priority})\"\n",
    "\n",
    "class TodoList:\n",
    "    def __init__(self, filename='todos.json'):\n",
    "        self.todos = []\n",
    "        self.filename = filename\n",
    "        self.load()\n",
    "\n",
    "    def load(self):\n",
    "        try:\n",
    "            with open(self.filename, 'r') as file:\n",
    "                self.todos = [Todo(**todo) for todo in json.load(file)]\n",
    "        except FileNotFoundError:\n",
    "            self.todos = []\n",
    "        except json.JSONDecodeError:\n",
    "            self.todos = []\n",
    "\n",
    "    def save(self):\n",
    "        with open(self.filename, 'w') as file:\n",
    "            json.dump([{'description': todo.description, 'priority': todo.priority, 'completed': todo.completed} for todo in self.todos], file)\n",
    "\n",
    "    def add_task(self, description, priority):\n",
    "        new_task = Todo(description, priority)\n",
    "        self.todos.append(new_task)\n",
    "        self.save()\n",
    "        print(f\"Task added: {new_task}\")\n",
    "\n",
    "    def remove_task(self, index):\n",
    "        if 0 <= index < len(self.todos):\n",
    "            removed_task = self.todos.pop(index)\n",
    "            self.save()\n",
    "            print(f\"Task removed: {removed_task}\")\n",
    "        else:\n",
    "            print(\"Invalid task index.\")\n",
    "\n",
    "    def complete_task(self, index):\n",
    "        if 0 <= index < len(self.todos):\n",
    "            self.todos[index].completed = True\n",
    "            self.save()\n",
    "            print(f\"Task completed: {self.todos[index]}\")\n",
    "        else:\n",
    "            print(\"Invalid task index.\")\n",
    "\n",
    "    def view_tasks(self):\n",
    "        if not self.todos:\n",
    "            print(\"No tasks available.\")\n",
    "        else:\n",
    "            for index, task in enumerate(self.todos):\n",
    "                print(f\"{index}. {task}\")\n",
    "\n",
    "    def sort_by_priority(self):\n",
    "        # Sort tasks first by completion status (uncompleted first) and then by priority\n",
    "        self.todos.sort(key=lambda x: (x.completed, x.priority))\n",
    "        print(\"Tasks sorted by priority.\")\n",
    "\n",
    "    def sort_by_completion(self):\n",
    "        # Sort tasks first by completion status (uncompleted first) and then by description\n",
    "        self.todos.sort(key=lambda x: (x.completed, x.description))\n",
    "        print(\"Tasks sorted by completion status.\")\n",
    "\n",
    "    def sort_by_description(self):\n",
    "        # Sort tasks by description alphabetically\n",
    "        self.todos.sort(key=lambda x: x.description)\n",
    "        print(\"Tasks sorted by description.\")\n",
    "\n",
    "def main():\n",
    "    todo_list = TodoList()\n",
    "    \n",
    "    while True:\n",
    "        print(\"\\nTodo List Application\")\n",
    "        print(\"1. View Tasks\")\n",
    "        print(\"2. Add Task\")\n",
    "        print(\"3. Complete Task\")\n",
    "        print(\"4. Remove Task\")\n",
    "        print(\"5. Sort Tasks by Priority\")\n",
    "        print(\"6. Sort Tasks by Completion\")\n",
    "        print(\"7. Sort Tasks by Description\")\n",
    "        print(\"8. Exit\")\n",
    "        \n",
    "        choice = input(\"Choose an option: \")\n",
    "\n",
    "        if choice == '1':\n",
    "            todo_list.view_tasks()\n",
    "        elif choice == '2':\n",
    "            description = input(\"Enter task description: \")\n",
    "            priority = int(input(\"Enter task priority: \"))\n",
    "            todo_list.add_task(description, priority)\n",
    "        elif choice == '3':\n",
    "            index = int(input(\"Enter task index to complete: \"))\n",
    "            todo_list.complete_task(index)\n",
    "        elif choice == '4':\n",
    "            index = int(input(\"Enter task index to remove: \"))\n",
    "            todo_list.remove_task(index)\n",
    "        elif choice == '5':\n",
    "            todo_list.sort_by_priority()\n",
    "        elif choice == '6':\n",
    "            todo_list.sort_by_completion()\n",
    "        elif choice == '7':\n",
    "            todo_list.sort_by_description()\n",
    "        elif choice == '8':\n",
    "            print(\"Exiting...\")\n",
    "            break\n",
    "        else:\n",
    "            print(\"Invalid choice, please try again.\")\n",
    "\n",
    "if __name__ == \"__main__\":\n",
    "    main()\n"
   ]
  },
  {
   "cell_type": "code",
   "execution_count": 5,
   "id": "7263acae-689f-4c31-8466-48c9521bf96b",
   "metadata": {},
   "outputs": [
    {
     "name": "stdout",
     "output_type": "stream",
     "text": [
      "\n",
      "1. View Contacts\n",
      "2. Add Contact\n",
      "3. Delete Contact\n",
      "4. Exit\n"
     ]
    },
    {
     "name": "stdin",
     "output_type": "stream",
     "text": [
      "Choose an option:  2\n",
      "Enter contact name:  raghav\n",
      "Enter contact phone:  576435940\n"
     ]
    },
    {
     "name": "stdout",
     "output_type": "stream",
     "text": [
      "Contact added.\n",
      "\n",
      "1. View Contacts\n",
      "2. Add Contact\n",
      "3. Delete Contact\n",
      "4. Exit\n"
     ]
    },
    {
     "name": "stdin",
     "output_type": "stream",
     "text": [
      "Choose an option:  2\n",
      "Enter contact name:  piyush\n",
      "Enter contact phone:  673847230\n"
     ]
    },
    {
     "name": "stdout",
     "output_type": "stream",
     "text": [
      "Contact added.\n",
      "\n",
      "1. View Contacts\n",
      "2. Add Contact\n",
      "3. Delete Contact\n",
      "4. Exit\n"
     ]
    },
    {
     "name": "stdin",
     "output_type": "stream",
     "text": [
      "Choose an option:  1\n"
     ]
    },
    {
     "name": "stdout",
     "output_type": "stream",
     "text": [
      "1. raghav - 576435940\n",
      "2. piyush - 673847230\n",
      "\n",
      "1. View Contacts\n",
      "2. Add Contact\n",
      "3. Delete Contact\n",
      "4. Exit\n"
     ]
    },
    {
     "name": "stdin",
     "output_type": "stream",
     "text": [
      "Choose an option:  3\n",
      "Enter contact index to delete:  2\n"
     ]
    },
    {
     "name": "stdout",
     "output_type": "stream",
     "text": [
      "Deleted: piyush\n",
      "\n",
      "1. View Contacts\n",
      "2. Add Contact\n",
      "3. Delete Contact\n",
      "4. Exit\n"
     ]
    },
    {
     "name": "stdin",
     "output_type": "stream",
     "text": [
      "Choose an option:  4\n"
     ]
    },
    {
     "name": "stdout",
     "output_type": "stream",
     "text": [
      "Exiting...\n"
     ]
    }
   ],
   "source": [
    "import json\n",
    "\n",
    "def load_contacts(filename='contacts.json'):\n",
    "    try:\n",
    "        with open(filename, 'r') as file:\n",
    "            return json.load(file)\n",
    "    except (FileNotFoundError, json.JSONDecodeError):\n",
    "        return []\n",
    "\n",
    "def save_contacts(contacts, filename='contacts.json'):\n",
    "    with open(filename, 'w') as file:\n",
    "        json.dump(contacts, file)\n",
    "\n",
    "def main():\n",
    "    contacts = load_contacts()\n",
    "    \n",
    "    while True:\n",
    "        print(\"\\n1. View Contacts\\n2. Add Contact\\n3. Delete Contact\\n4. Exit\")\n",
    "        choice = input(\"Choose an option: \")\n",
    "        \n",
    "        if choice == '1':\n",
    "            for i, contact in enumerate(contacts):\n",
    "                print(f\"{i + 1}. {contact['name']} - {contact['phone']}\")\n",
    "        \n",
    "        elif choice == '2':\n",
    "            name = input(\"Enter contact name: \")\n",
    "            phone = input(\"Enter contact phone: \")\n",
    "            contacts.append({'name': name, 'phone': phone})\n",
    "            save_contacts(contacts)\n",
    "            print(\"Contact added.\")\n",
    "        \n",
    "        elif choice == '3':\n",
    "            index = int(input(\"Enter contact index to delete: \")) - 1\n",
    "            if 0 <= index < len(contacts):\n",
    "                removed_contact = contacts.pop(index)\n",
    "                save_contacts(contacts)\n",
    "                print(f\"Deleted: {removed_contact['name']}\")\n",
    "            else:\n",
    "                print(\"Invalid index.\")\n",
    "        \n",
    "        elif choice == '4':\n",
    "            print(\"Exiting...\")\n",
    "            break\n",
    "        \n",
    "        else:\n",
    "            print(\"Invalid choice, please try again.\")\n",
    "\n",
    "if __name__ == \"__main__\":\n",
    "    main()\n"
   ]
  },
  {
   "cell_type": "code",
   "execution_count": 7,
   "id": "6377c860-7459-4dab-a44e-3836a892758e",
   "metadata": {},
   "outputs": [
    {
     "name": "stdout",
     "output_type": "stream",
     "text": [
      "\n",
      "1. View Contacts\n",
      "2. Add Contact\n",
      "3. Delete Contact\n",
      "4. Exit\n"
     ]
    },
    {
     "name": "stdin",
     "output_type": "stream",
     "text": [
      "Choose an option:  2\n",
      "Enter contact name:  as\n",
      "Enter contact phone:  678454379438\n"
     ]
    },
    {
     "name": "stdout",
     "output_type": "stream",
     "text": [
      "Contact added.\n",
      "\n",
      "1. View Contacts\n",
      "2. Add Contact\n",
      "3. Delete Contact\n",
      "4. Exit\n"
     ]
    },
    {
     "name": "stdin",
     "output_type": "stream",
     "text": [
      "Choose an option:  2\n",
      "Enter contact name:  huv\n",
      "Enter contact phone:  75034958034\n"
     ]
    },
    {
     "name": "stdout",
     "output_type": "stream",
     "text": [
      "Contact added.\n",
      "\n",
      "1. View Contacts\n",
      "2. Add Contact\n",
      "3. Delete Contact\n",
      "4. Exit\n"
     ]
    },
    {
     "name": "stdin",
     "output_type": "stream",
     "text": [
      "Choose an option:  2\n",
      "Enter contact name:  acz\n",
      "Enter contact phone:  654397\n"
     ]
    },
    {
     "name": "stdout",
     "output_type": "stream",
     "text": [
      "Contact added.\n",
      "\n",
      "1. View Contacts\n",
      "2. Add Contact\n",
      "3. Delete Contact\n",
      "4. Exit\n"
     ]
    },
    {
     "name": "stdin",
     "output_type": "stream",
     "text": [
      "Choose an option:  1\n"
     ]
    },
    {
     "name": "stdout",
     "output_type": "stream",
     "text": [
      "1. acz - 654397\n",
      "2. as - 678454379438\n",
      "3. huv - 75034958034\n",
      "4. raghav - 576435940\n",
      "\n",
      "1. View Contacts\n",
      "2. Add Contact\n",
      "3. Delete Contact\n",
      "4. Exit\n"
     ]
    },
    {
     "name": "stdin",
     "output_type": "stream",
     "text": [
      "Choose an option:  4\n"
     ]
    },
    {
     "name": "stdout",
     "output_type": "stream",
     "text": [
      "Exiting...\n"
     ]
    }
   ],
   "source": [
    "import json\n",
    "\n",
    "# Load contacts from a file\n",
    "def load_contacts(filename='contacts.json'):\n",
    "    try:\n",
    "        with open(filename, 'r') as file:\n",
    "            return json.load(file)  # Read and return contacts from the file\n",
    "    except (FileNotFoundError, json.JSONDecodeError):\n",
    "        return []  # Return an empty list if there are no contacts\n",
    "\n",
    "# Save contacts to a file\n",
    "def save_contacts(contacts, filename='contacts.json'):\n",
    "    with open(filename, 'w') as file:\n",
    "        json.dump(contacts, file)  # Write contacts to the file\n",
    "\n",
    "def main():\n",
    "    contacts = load_contacts()  # Load existing contacts\n",
    "\n",
    "    while True:\n",
    "        # Show the menu\n",
    "        print(\"\\n1. View Contacts\")\n",
    "        print(\"2. Add Contact\")\n",
    "        print(\"3. Delete Contact\")\n",
    "        print(\"4. Exit\")\n",
    "        \n",
    "        choice = input(\"Choose an option: \")  # Get user choice\n",
    "\n",
    "        if choice == '1':\n",
    "            # Sort contacts by name\n",
    "            sorted_contacts = sorted(contacts, key=lambda contact: contact['name'].lower())\n",
    "            # Show each contact\n",
    "            for i, contact in enumerate(sorted_contacts):\n",
    "                print(f\"{i + 1}. {contact['name']} - {contact['phone']}\")\n",
    "\n",
    "        elif choice == '2':\n",
    "            # Get contact details from the user\n",
    "            name = input(\"Enter contact name: \")\n",
    "            phone = input(\"Enter contact phone: \")\n",
    "            contacts.append({'name': name, 'phone': phone})  # Add new contact\n",
    "            save_contacts(contacts)  # Save updated contacts\n",
    "            print(\"Contact added.\")\n",
    "\n",
    "        elif choice == '3':\n",
    "            index = int(input(\"Enter contact index to delete: \")) - 1  # Get index to delete\n",
    "            if 0 <= index < len(contacts):  # Check if index is valid\n",
    "                removed_contact = contacts.pop(index)  # Remove contact from the list\n",
    "                save_contacts(contacts)  # Save updated contacts\n",
    "                print(f\"Deleted: {removed_contact['name']}\")\n",
    "            else:\n",
    "                print(\"Invalid index.\")  # Handle invalid index\n",
    "\n",
    "        elif choice == '4':\n",
    "            print(\"Exiting...\")  # Exit the program\n",
    "            break  # Break the loop to exit\n",
    "\n",
    "        else:\n",
    "            print(\"Invalid choice, please try again.\")  # Handle invalid choice\n",
    "\n",
    "if __name__ == \"__main__\":\n",
    "    main()  # Start the program\n"
   ]
  },
  {
   "cell_type": "code",
   "execution_count": 9,
   "id": "d8ab8bd7-7ffd-47ed-84a1-0238bf940c6f",
   "metadata": {},
   "outputs": [
    {
     "name": "stdout",
     "output_type": "stream",
     "text": [
      "\n",
      "E-commerce Cart Menu:\n",
      "1. View Cart\n",
      "2. Add Item to Cart\n",
      "3. Remove Item from Cart\n",
      "4. Checkout\n",
      "5. Exit\n"
     ]
    },
    {
     "name": "stdin",
     "output_type": "stream",
     "text": [
      "Choose an option:  1\n"
     ]
    },
    {
     "name": "stdout",
     "output_type": "stream",
     "text": [
      "Your cart is empty!\n",
      "\n",
      "E-commerce Cart Menu:\n",
      "1. View Cart\n",
      "2. Add Item to Cart\n",
      "3. Remove Item from Cart\n",
      "4. Checkout\n",
      "5. Exit\n"
     ]
    },
    {
     "name": "stdin",
     "output_type": "stream",
     "text": [
      "Choose an option:  2\n",
      "Enter the name of the item you want to add:  iphone\n"
     ]
    },
    {
     "name": "stdout",
     "output_type": "stream",
     "text": [
      "Added item: iphone\n",
      "\n",
      "E-commerce Cart Menu:\n",
      "1. View Cart\n",
      "2. Add Item to Cart\n",
      "3. Remove Item from Cart\n",
      "4. Checkout\n",
      "5. Exit\n"
     ]
    },
    {
     "name": "stdin",
     "output_type": "stream",
     "text": [
      "Choose an option:  2\n",
      "Enter the name of the item you want to add:  macbook\n"
     ]
    },
    {
     "name": "stdout",
     "output_type": "stream",
     "text": [
      "Added item: macbook\n",
      "\n",
      "E-commerce Cart Menu:\n",
      "1. View Cart\n",
      "2. Add Item to Cart\n",
      "3. Remove Item from Cart\n",
      "4. Checkout\n",
      "5. Exit\n"
     ]
    },
    {
     "name": "stdin",
     "output_type": "stream",
     "text": [
      "Choose an option:  4\n"
     ]
    },
    {
     "name": "stdout",
     "output_type": "stream",
     "text": [
      "Checking out...\n",
      "Thank you for your purchase!\n"
     ]
    }
   ],
   "source": [
    "# Define an empty cart list to store items\n",
    "cart = []\n",
    "\n",
    "# Function to show the menu\n",
    "def show_menu():\n",
    "    print(\"\\nE-commerce Cart Menu:\")\n",
    "    print(\"1. View Cart\")\n",
    "    print(\"2. Add Item to Cart\")\n",
    "    print(\"3. Remove Item from Cart\")\n",
    "    print(\"4. Checkout\")\n",
    "    print(\"5. Exit\")\n",
    "\n",
    "# Function to view the items in the cart\n",
    "def view_cart():\n",
    "    if not cart:\n",
    "        print(\"Your cart is empty!\")  # If the cart is empty\n",
    "    else:\n",
    "        print(\"Items in your cart:\")\n",
    "        for i, item in enumerate(cart):\n",
    "            print(f\"{i + 1}. {item}\")  # Show each item with a number\n",
    "\n",
    "# Main function where the program runs\n",
    "def main():\n",
    "    while True:\n",
    "        show_menu()  # Show the menu to the user\n",
    "        choice = input(\"Choose an option: \")  # Get the user's choice\n",
    "\n",
    "        if choice == '1':\n",
    "            view_cart()  # Call the function to view the cart\n",
    "\n",
    "        elif choice == '2':\n",
    "            # Add a new item to the cart\n",
    "            new_item = input(\"Enter the name of the item you want to add: \")\n",
    "            cart.append(new_item)  # Add the new item to the cart\n",
    "            print(f\"Added item: {new_item}\")\n",
    "\n",
    "        elif choice == '3':\n",
    "            # Remove an item from the cart\n",
    "            item_number = int(input(\"Enter the item number to remove: \")) - 1  # Get the item number\n",
    "            if 0 <= item_number < len(cart):  # Check if the number is valid\n",
    "                removed_item = cart.pop(item_number)  # Remove the item from the cart\n",
    "                print(f\"Removed item: {removed_item}\")\n",
    "            else:\n",
    "                print(\"Invalid item number.\")  # Handle invalid number\n",
    "\n",
    "        elif choice == '4':\n",
    "            print(\"Checking out...\")  # Checkout message\n",
    "            print(\"Thank you for your purchase!\")\n",
    "            break  # End the program after checkout\n",
    "\n",
    "        elif choice == '5':\n",
    "            print(\"Goodbye!\")  # Exit message\n",
    "            break  # End the loop to exit the program\n",
    "\n",
    "        else:\n",
    "            print(\"Invalid choice, please try again.\")  # Handle invalid choice\n",
    "\n",
    "# Start the program\n",
    "if __name__ == \"__main__\":\n",
    "    main()  # Run the main function\n"
   ]
  },
  {
   "cell_type": "code",
   "execution_count": 1,
   "id": "4a0818de-e663-44b6-9d46-5b5d264d4a36",
   "metadata": {},
   "outputs": [
    {
     "name": "stdout",
     "output_type": "stream",
     "text": [
      "\n",
      "E-commerce Cart Menu:\n",
      "1. View Cart\n",
      "2. Add Item to Cart\n",
      "3. Remove Item from Cart\n",
      "4. Checkout\n",
      "5. Exit\n"
     ]
    },
    {
     "name": "stdin",
     "output_type": "stream",
     "text": [
      "Choose an option:  2\n",
      "Enter the name of the item you want to add:  Iphone\n",
      "Enter the price of the item:  150000\n"
     ]
    },
    {
     "name": "stdout",
     "output_type": "stream",
     "text": [
      "Added item: Iphone - ₹150000.00\n",
      "\n",
      "E-commerce Cart Menu:\n",
      "1. View Cart\n",
      "2. Add Item to Cart\n",
      "3. Remove Item from Cart\n",
      "4. Checkout\n",
      "5. Exit\n"
     ]
    },
    {
     "name": "stdin",
     "output_type": "stream",
     "text": [
      "Choose an option:  2\n",
      "Enter the name of the item you want to add:  Ipad\n",
      "Enter the price of the item:  60000\n"
     ]
    },
    {
     "name": "stdout",
     "output_type": "stream",
     "text": [
      "Added item: Ipad - ₹60000.00\n",
      "\n",
      "E-commerce Cart Menu:\n",
      "1. View Cart\n",
      "2. Add Item to Cart\n",
      "3. Remove Item from Cart\n",
      "4. Checkout\n",
      "5. Exit\n"
     ]
    },
    {
     "name": "stdin",
     "output_type": "stream",
     "text": [
      "Choose an option:  2\n",
      "Enter the name of the item you want to add:  Macbook\n",
      "Enter the price of the item:  110000\n"
     ]
    },
    {
     "name": "stdout",
     "output_type": "stream",
     "text": [
      "Added item: Macbook - ₹110000.00\n",
      "\n",
      "E-commerce Cart Menu:\n",
      "1. View Cart\n",
      "2. Add Item to Cart\n",
      "3. Remove Item from Cart\n",
      "4. Checkout\n",
      "5. Exit\n"
     ]
    },
    {
     "name": "stdin",
     "output_type": "stream",
     "text": [
      "Choose an option:  2\n",
      "Enter the name of the item you want to add:  Airpods\n",
      "Enter the price of the item:  24000\n"
     ]
    },
    {
     "name": "stdout",
     "output_type": "stream",
     "text": [
      "Added item: Airpods - ₹24000.00\n",
      "\n",
      "E-commerce Cart Menu:\n",
      "1. View Cart\n",
      "2. Add Item to Cart\n",
      "3. Remove Item from Cart\n",
      "4. Checkout\n",
      "5. Exit\n"
     ]
    },
    {
     "name": "stdin",
     "output_type": "stream",
     "text": [
      "Choose an option:  2\n",
      "Enter the name of the item you want to add:  Apple Watch\n",
      "Enter the price of the item:  90000\n"
     ]
    },
    {
     "name": "stdout",
     "output_type": "stream",
     "text": [
      "Added item: Apple Watch - ₹90000.00\n",
      "\n",
      "E-commerce Cart Menu:\n",
      "1. View Cart\n",
      "2. Add Item to Cart\n",
      "3. Remove Item from Cart\n",
      "4. Checkout\n",
      "5. Exit\n"
     ]
    },
    {
     "name": "stdin",
     "output_type": "stream",
     "text": [
      "Choose an option:  1\n"
     ]
    },
    {
     "name": "stdout",
     "output_type": "stream",
     "text": [
      "Items in your cart:\n",
      "1. Airpods - ₹24000.00\n",
      "2. Apple Watch - ₹90000.00\n",
      "3. Ipad - ₹60000.00\n",
      "4. Iphone - ₹150000.00\n",
      "5. Macbook - ₹110000.00\n",
      "Total Price: ₹434000.00\n",
      "\n",
      "E-commerce Cart Menu:\n",
      "1. View Cart\n",
      "2. Add Item to Cart\n",
      "3. Remove Item from Cart\n",
      "4. Checkout\n",
      "5. Exit\n"
     ]
    },
    {
     "name": "stdin",
     "output_type": "stream",
     "text": [
      "Choose an option:  4\n"
     ]
    },
    {
     "name": "stdout",
     "output_type": "stream",
     "text": [
      "Checking out...\n",
      "Total amount due: ₹434000.00\n",
      "Thank you for your purchase!\n"
     ]
    }
   ],
   "source": [
    "cart = []\n",
    "\n",
    "def show_menu():\n",
    "    print(\"\\nE-commerce Cart Menu:\")\n",
    "    print(\"1. View Cart\")\n",
    "    print(\"2. Add Item to Cart\")\n",
    "    print(\"3. Remove Item from Cart\")\n",
    "    print(\"4. Checkout\")\n",
    "    print(\"5. Exit\")\n",
    "\n",
    "def view_cart():\n",
    "    if not cart:\n",
    "        print(\"Your cart is empty!\")\n",
    "    else:\n",
    "        print(\"Items in your cart:\")\n",
    "        total_price = 0 \n",
    "        \n",
    "        # Sort the cart by item name\n",
    "        sorted_cart = sorted(cart, key=lambda x: x[0])  # Sort by item name\n",
    "        \n",
    "        for i, (item, price) in enumerate(sorted_cart):\n",
    "            print(f\"{i + 1}. {item} - ₹{price:.2f}\") \n",
    "            total_price += price\n",
    "        print(f\"Total Price: ₹{total_price:.2f}\")\n",
    "\n",
    "def main():\n",
    "    while True:\n",
    "        show_menu()  # Show the menu to the user\n",
    "        choice = input(\"Choose an option: \")\n",
    "        \n",
    "        if choice == '1':  # Viewing the cart\n",
    "            view_cart() \n",
    "\n",
    "        elif choice == '2':  # Adding items\n",
    "            new_item = input(\"Enter the name of the item you want to add: \")\n",
    "            price = float(input(\"Enter the price of the item: \"))\n",
    "            cart.append((new_item, price)) \n",
    "            print(f\"Added item: {new_item} - ₹{price:.2f}\")\n",
    "\n",
    "        elif choice == '3':  # Removing items\n",
    "            item_number = int(input(\"Enter the item number to remove: \")) - 1\n",
    "            if 0 <= item_number < len(cart): \n",
    "                removed_item, removed_price = cart.pop(item_number) \n",
    "                print(f\"Removed item: {removed_item} - ₹{removed_price:.2f}\")\n",
    "            else:\n",
    "                print(\"Invalid item number.\")\n",
    "\n",
    "        elif choice == '4':  # Checkout\n",
    "            print(\"Checking out...\")  \n",
    "            total_price = sum(price for _, price in cart)\n",
    "            print(f\"Total amount due: ₹{total_price:.2f}\")\n",
    "            print(\"Thank you for your purchase!\")  \n",
    "            break \n",
    "\n",
    "        elif choice == '5':  # Exit\n",
    "            print(\"Have a nice day!\") \n",
    "            break \n",
    "\n",
    "        else:\n",
    "            print(\"Invalid choice, please try again.\")\n",
    "\n",
    "if __name__ == \"__main__\":\n",
    "    main()\n"
   ]
  }
 ],
 "metadata": {
  "kernelspec": {
   "display_name": "Python 3 (ipykernel)",
   "language": "python",
   "name": "python3"
  },
  "language_info": {
   "codemirror_mode": {
    "name": "ipython",
    "version": 3
   },
   "file_extension": ".py",
   "mimetype": "text/x-python",
   "name": "python",
   "nbconvert_exporter": "python",
   "pygments_lexer": "ipython3",
   "version": "3.12.4"
  }
 },
 "nbformat": 4,
 "nbformat_minor": 5
}

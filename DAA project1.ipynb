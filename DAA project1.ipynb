{
 "cells": [
  {
   "cell_type": "code",
   "execution_count": 1,
   "id": "4a0818de-e663-44b6-9d46-5b5d264d4a36",
   "metadata": {},
   "outputs": [
    {
     "name": "stdout",
     "output_type": "stream",
     "text": [
      "\n",
      "E-commerce Cart Menu:\n",
      "1. View Cart\n",
      "2. Add Item to Cart\n",
      "3. Remove Item from Cart\n",
      "4. Checkout\n",
      "5. Exit\n"
     ]
    },
    {
     "name": "stdin",
     "output_type": "stream",
     "text": [
      "Choose an option:  2\n",
      "Enter the name of the item you want to add:  Iphone\n",
      "Enter the price of the item:  150000\n"
     ]
    },
    {
     "name": "stdout",
     "output_type": "stream",
     "text": [
      "Added item: Iphone - ₹150000.00\n",
      "\n",
      "E-commerce Cart Menu:\n",
      "1. View Cart\n",
      "2. Add Item to Cart\n",
      "3. Remove Item from Cart\n",
      "4. Checkout\n",
      "5. Exit\n"
     ]
    },
    {
     "name": "stdin",
     "output_type": "stream",
     "text": [
      "Choose an option:  2\n",
      "Enter the name of the item you want to add:  Ipad\n",
      "Enter the price of the item:  60000\n"
     ]
    },
    {
     "name": "stdout",
     "output_type": "stream",
     "text": [
      "Added item: Ipad - ₹60000.00\n",
      "\n",
      "E-commerce Cart Menu:\n",
      "1. View Cart\n",
      "2. Add Item to Cart\n",
      "3. Remove Item from Cart\n",
      "4. Checkout\n",
      "5. Exit\n"
     ]
    },
    {
     "name": "stdin",
     "output_type": "stream",
     "text": [
      "Choose an option:  2\n",
      "Enter the name of the item you want to add:  Macbook\n",
      "Enter the price of the item:  110000\n"
     ]
    },
    {
     "name": "stdout",
     "output_type": "stream",
     "text": [
      "Added item: Macbook - ₹110000.00\n",
      "\n",
      "E-commerce Cart Menu:\n",
      "1. View Cart\n",
      "2. Add Item to Cart\n",
      "3. Remove Item from Cart\n",
      "4. Checkout\n",
      "5. Exit\n"
     ]
    },
    {
     "name": "stdin",
     "output_type": "stream",
     "text": [
      "Choose an option:  2\n",
      "Enter the name of the item you want to add:  Airpods\n",
      "Enter the price of the item:  24000\n"
     ]
    },
    {
     "name": "stdout",
     "output_type": "stream",
     "text": [
      "Added item: Airpods - ₹24000.00\n",
      "\n",
      "E-commerce Cart Menu:\n",
      "1. View Cart\n",
      "2. Add Item to Cart\n",
      "3. Remove Item from Cart\n",
      "4. Checkout\n",
      "5. Exit\n"
     ]
    },
    {
     "name": "stdin",
     "output_type": "stream",
     "text": [
      "Choose an option:  2\n",
      "Enter the name of the item you want to add:  Apple Watch\n",
      "Enter the price of the item:  90000\n"
     ]
    },
    {
     "name": "stdout",
     "output_type": "stream",
     "text": [
      "Added item: Apple Watch - ₹90000.00\n",
      "\n",
      "E-commerce Cart Menu:\n",
      "1. View Cart\n",
      "2. Add Item to Cart\n",
      "3. Remove Item from Cart\n",
      "4. Checkout\n",
      "5. Exit\n"
     ]
    },
    {
     "name": "stdin",
     "output_type": "stream",
     "text": [
      "Choose an option:  1\n"
     ]
    },
    {
     "name": "stdout",
     "output_type": "stream",
     "text": [
      "Items in your cart:\n",
      "1. Airpods - ₹24000.00\n",
      "2. Apple Watch - ₹90000.00\n",
      "3. Ipad - ₹60000.00\n",
      "4. Iphone - ₹150000.00\n",
      "5. Macbook - ₹110000.00\n",
      "Total Price: ₹434000.00\n",
      "\n",
      "E-commerce Cart Menu:\n",
      "1. View Cart\n",
      "2. Add Item to Cart\n",
      "3. Remove Item from Cart\n",
      "4. Checkout\n",
      "5. Exit\n"
     ]
    },
    {
     "name": "stdin",
     "output_type": "stream",
     "text": [
      "Choose an option:  4\n"
     ]
    },
    {
     "name": "stdout",
     "output_type": "stream",
     "text": [
      "Checking out...\n",
      "Total amount due: ₹434000.00\n",
      "Thank you for your purchase!\n"
     ]
    }
   ],
   "source": [
    "cart = []\n",
    "\n",
    "def show_menu():\n",
    "    print(\"\\nE-commerce Cart Menu:\")\n",
    "    print(\"1. View Cart\")\n",
    "    print(\"2. Add Item to Cart\")\n",
    "    print(\"3. Remove Item from Cart\")\n",
    "    print(\"4. Checkout\")\n",
    "    print(\"5. Exit\")\n",
    "\n",
    "def view_cart():\n",
    "    if not cart:\n",
    "        print(\"Your cart is empty!\")\n",
    "    else:\n",
    "        print(\"Items in your cart:\")\n",
    "        total_price = 0 \n",
    "        \n",
    "        # Sort the cart by item name\n",
    "        sorted_cart = sorted(cart, key=lambda x: x[0])  # Sort by item name\n",
    "        \n",
    "        for i, (item, price) in enumerate(sorted_cart):\n",
    "            print(f\"{i + 1}. {item} - ₹{price:.2f}\") \n",
    "            total_price += price\n",
    "        print(f\"Total Price: ₹{total_price:.2f}\")\n",
    "\n",
    "def main():\n",
    "    while True:\n",
    "        show_menu()  # Show the menu to the user\n",
    "        choice = input(\"Choose an option: \")\n",
    "        \n",
    "        if choice == '1':  # Viewing the cart\n",
    "            view_cart() \n",
    "\n",
    "        elif choice == '2':  # Adding items\n",
    "            new_item = input(\"Enter the name of the item you want to add: \")\n",
    "            price = float(input(\"Enter the price of the item: \"))\n",
    "            cart.append((new_item, price)) \n",
    "            print(f\"Added item: {new_item} - ₹{price:.2f}\")\n",
    "\n",
    "        elif choice == '3':  # Removing items\n",
    "            item_number = int(input(\"Enter the item number to remove: \")) - 1\n",
    "            if 0 <= item_number < len(cart): \n",
    "                removed_item, removed_price = cart.pop(item_number) \n",
    "                print(f\"Removed item: {removed_item} - ₹{removed_price:.2f}\")\n",
    "            else:\n",
    "                print(\"Invalid item number.\")\n",
    "\n",
    "        elif choice == '4':  # Checkout\n",
    "            print(\"Checking out...\")  \n",
    "            total_price = sum(price for _, price in cart)\n",
    "            print(f\"Total amount due: ₹{total_price:.2f}\")\n",
    "            print(\"Thank you for your purchase!\")  \n",
    "            break \n",
    "\n",
    "        elif choice == '5':  # Exit\n",
    "            print(\"Have a nice day!\") \n",
    "            break \n",
    "\n",
    "        else:\n",
    "            print(\"Invalid choice, please try again.\")\n",
    "\n",
    "if __name__ == \"__main__\":\n",
    "    main()\n"
   ]
  }
 ],
 "metadata": {
  "kernelspec": {
   "display_name": "Python 3 (ipykernel)",
   "language": "python",
   "name": "python3"
  },
  "language_info": {
   "codemirror_mode": {
    "name": "ipython",
    "version": 3
   },
   "file_extension": ".py",
   "mimetype": "text/x-python",
   "name": "python",
   "nbconvert_exporter": "python",
   "pygments_lexer": "ipython3",
   "version": "3.12.4"
  }
 },
 "nbformat": 4,
 "nbformat_minor": 5
}
